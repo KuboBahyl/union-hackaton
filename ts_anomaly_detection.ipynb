{
 "cells": [
  {
   "cell_type": "code",
   "execution_count": null,
   "metadata": {},
   "outputs": [],
   "source": [
    "import pandas as pd\n",
    "import numpy as np\n",
    "import luminol\n",
    "%matplotlib inline\n",
    "import matplotlib.pyplot as plt"
   ]
  },
  {
   "cell_type": "code",
   "execution_count": null,
   "metadata": {},
   "outputs": [],
   "source": [
    "file_encoding = 'cp1252'\n",
    "df = pd.read_csv('data/lieky a pomocky.csv', error_bad_lines=False, encoding=file_encoding, delimiter=\";\")"
   ]
  },
  {
   "cell_type": "code",
   "execution_count": null,
   "metadata": {},
   "outputs": [],
   "source": [
    "df.DOK_PRIJ_DAT = pd.to_datetime(df.DOK_PRIJ_DAT)\n",
    "df.sort_values(by='DOK_PRIJ_DAT',inplace=True)\n",
    "# dt = df.groupby(by=\"RGP_ID\")['DOK_SK_UZN'].apply(list).to_frame()\n",
    "dt = df"
   ]
  },
  {
   "cell_type": "markdown",
   "metadata": {},
   "source": [
    "# Get unusual spikes in pharmancy counts"
   ]
  },
  {
   "cell_type": "code",
   "execution_count": null,
   "metadata": {},
   "outputs": [],
   "source": [
    "ext = list(pd.read_csv('data/zoznam externych revizii.csv', error_bad_lines=False, encoding=file_encoding, delimiter=\";\").PZS_ID)"
   ]
  },
  {
   "cell_type": "code",
   "execution_count": null,
   "metadata": {},
   "outputs": [],
   "source": [
    "dt = df\n",
    "dt = dt.sort_values('DOK_PRIJ_DAT')\n",
    "dt = dt[dt.DOK_PRIJ_DAT > '2016-12-31 07:30:00']\n",
    "dt = dt[~dt.DOK_UKON_DAT.isna()]\n",
    "\n",
    "# recode str to numbers\n",
    "dt.DOK_MN = dt.DOK_MN.str.replace(\",\",\".\").astype(float)\n",
    "dt.DOK_SK_UCT = dt.DOK_SK_UCT.str.replace(\",\",\".\").astype(float)\n",
    "dt = dt[dt.DOK_MAX_CHYBA == 0]\n",
    "\n",
    "# got rid of revised pharmacies\n",
    "# not_checked_pzs = list(set(dt.PZS_ID.tolist()) - set(ext))\n",
    "# dt = dt[dt.PZS_ID.isin(not_checked_pzs)]"
   ]
  },
  {
   "cell_type": "code",
   "execution_count": null,
   "metadata": {},
   "outputs": [],
   "source": [
    "counter = 0\n",
    "total_value = 0\n",
    "absolute_value = 0\n",
    "for lekaren in dt.DOK_ODD.unique():\n",
    "    val = lekaren \n",
    "    # filter just current pzs\n",
    "    testdf = dt.query(\"DOK_ODD == @val\")\n",
    "    testdf = testdf[['DOK_PRIJ_DAT','DOK_MN']]\n",
    "    \n",
    "    # transform\n",
    "    ts = testdf.groupby('DOK_PRIJ_DAT').sum().reset_index()\n",
    "\n",
    "    # get anomalies\n",
    "    try:\n",
    "        detector = luminol.anomaly_detector.AnomalyDetector(ts.DOK_MN.to_dict(), algorithm_name='bitmap_detector')\n",
    "        anomalies = detector.get_anomalies()\n",
    "    except:    \n",
    "        continue\n",
    "    \n",
    "    #\n",
    "    indices = []\n",
    "    for i, item in enumerate(anomalies):\n",
    "        if anomalies[i].anomaly_score > 11:\n",
    "            indices.append(anomalies[i].start_timestamp)\n",
    "    \n",
    "    if len(indices) > 0:\n",
    "        counter += 1\n",
    "        absolute_value = ts.loc[indices].DOK_MN.sum() - ts.DOK_MN.mean()*len(indices)\n",
    "        \n",
    "        # compute economic value\n",
    "        testdf_ = dt.query(\"DOK_ODD == @val\")\n",
    "        testdf_ = testdf_[['DOK_PRIJ_DAT','DOK_SK_UCT']]\n",
    "    \n",
    "        # transform\n",
    "        ts_ = testdf_.groupby('DOK_PRIJ_DAT').sum().reset_index()\n",
    "        economic_value = ts_.loc[indices].DOK_SK_UCT.sum() #- ts_.DOK_SK_UCT.mean()*len(indices)\n",
    "        \n",
    "        total_value += economic_value\n",
    "        print(\"Lekaren {} has {} anomaly of {} drugs in total of {}\".format(val, len(indices), \\\n",
    "                                                                            absolute_value.round(0), economic_value.round(0)))\n",
    "            \n",
    "        plt.figure(figsize=(10,5))\n",
    "        plt.plot(ts.DOK_PRIJ_DAT,ts.DOK_MN)\n",
    "        plt.plot(ts.loc[indices].DOK_PRIJ_DAT, ts.loc[indices].DOK_MN, 'r*')\n",
    "        plt.show()\n",
    "    \n",
    "print(\"There is {} dok_odd with extreme anomalies with potential of {} saved in total.\".format(counter, total_value.round(0)))"
   ]
  },
  {
   "cell_type": "markdown",
   "metadata": {},
   "source": [
    "# Get unusual spikes in doctor vs # drugs"
   ]
  },
  {
   "cell_type": "code",
   "execution_count": null,
   "metadata": {},
   "outputs": [],
   "source": [
    "counter = 0\n",
    "total_value = 0\n",
    "absolute_value = 0\n",
    "for doktor in dt.DOK_KOD_LKR.unique():\n",
    "    val = doktor \n",
    "    # filter just current pzs\n",
    "    testdf = dt.query(\"DOK_KOD_LKR == @val\")\n",
    "    testdf = testdf[['DOK_PRIJ_DAT','DOK_MN']]\n",
    "    \n",
    "    # transform\n",
    "    ts = testdf.groupby('DOK_PRIJ_DAT').sum().reset_index()\n",
    "\n",
    "    # get anomalies\n",
    "    try:\n",
    "        detector = luminol.anomaly_detector.AnomalyDetector(ts.DOK_MN.to_dict(), algorithm_name='bitmap_detector')\n",
    "        anomalies = detector.get_anomalies()\n",
    "    except:    \n",
    "        continue\n",
    "    \n",
    "    #\n",
    "    indices = []\n",
    "    for i, item in enumerate(anomalies):\n",
    "        if anomalies[i].anomaly_score > 11:\n",
    "            indices.append(anomalies[i].start_timestamp)\n",
    "    \n",
    "    if len(indices) > 0:\n",
    "        counter += 1\n",
    "        absolute_value = ts.loc[indices].DOK_MN.sum() - ts.DOK_MN.mean()*len(indices)\n",
    "        \n",
    "        # compute economic value\n",
    "        testdf_ = dt.query(\"DOK_KOD_LKR == @val\")\n",
    "        testdf_ = testdf_[['DOK_PRIJ_DAT','DOK_SK_UCT']]\n",
    "    \n",
    "        # transform\n",
    "        ts_ = testdf_.groupby('DOK_PRIJ_DAT').sum().reset_index()\n",
    "        economic_value = ts_.loc[indices].DOK_SK_UCT.sum() #- ts_.DOK_SK_UCT.mean()*len(indices)\n",
    "        \n",
    "        total_value += economic_value\n",
    "        print(\"Lekar {} has {} anomaly of {} drugs in total of {}\".format(val, len(indices), \\\n",
    "                                                                            absolute_value.round(0), economic_value.round(0)))\n",
    "            \n",
    "        plt.figure(figsize=(10,5))\n",
    "        plt.plot(ts.DOK_PRIJ_DAT,ts.DOK_MN)\n",
    "        plt.plot(ts.loc[indices].DOK_PRIJ_DAT, ts.loc[indices].DOK_MN, 'r*')\n",
    "        plt.show()\n",
    "    \n",
    "print(\"There is {} dok_odd with extreme anomalies with potential of {} saved in total.\".format(counter, total_value.round(0)))"
   ]
  },
  {
   "cell_type": "code",
   "execution_count": null,
   "metadata": {},
   "outputs": [],
   "source": []
  },
  {
   "cell_type": "code",
   "execution_count": null,
   "metadata": {},
   "outputs": [],
   "source": []
  },
  {
   "cell_type": "code",
   "execution_count": null,
   "metadata": {},
   "outputs": [],
   "source": []
  },
  {
   "cell_type": "code",
   "execution_count": null,
   "metadata": {},
   "outputs": [],
   "source": []
  },
  {
   "cell_type": "code",
   "execution_count": null,
   "metadata": {},
   "outputs": [],
   "source": []
  },
  {
   "cell_type": "code",
   "execution_count": null,
   "metadata": {},
   "outputs": [],
   "source": []
  }
 ],
 "metadata": {
  "kernelspec": {
   "display_name": "Python 3",
   "language": "python",
   "name": "python3"
  },
  "language_info": {
   "codemirror_mode": {
    "name": "ipython",
    "version": 3
   },
   "file_extension": ".py",
   "mimetype": "text/x-python",
   "name": "python",
   "nbconvert_exporter": "python",
   "pygments_lexer": "ipython3",
   "version": "3.6.8"
  }
 },
 "nbformat": 4,
 "nbformat_minor": 2
}
